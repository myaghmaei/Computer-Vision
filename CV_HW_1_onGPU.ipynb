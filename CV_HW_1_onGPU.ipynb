{
 "cells": [
  {
   "cell_type": "code",
   "execution_count": 3,
   "metadata": {},
   "outputs": [],
   "source": [
    "import os\n",
    "import shutil\n",
    "import tensorflow\n",
    "from tensorflow.keras import layers\n",
    "from tensorflow.keras import models\n",
    "from tensorflow.keras import optimizers\n",
    "from tensorflow.keras.preprocessing.image import ImageDataGenerator\n",
    "# from tensorflow.keras.constraints import maxnorm\n",
    "from tensorflow.keras import constraints\n",
    "\n",
    "\n",
    "import matplotlib.pyplot as plt"
   ]
  },
  {
   "cell_type": "code",
   "execution_count": 2,
   "metadata": {},
   "outputs": [
    {
     "name": "stdout",
     "output_type": "stream",
     "text": [
      "[name: \"/device:CPU:0\"\n",
      "device_type: \"CPU\"\n",
      "memory_limit: 268435456\n",
      "locality {\n",
      "}\n",
      "incarnation: 13077029687169244254\n",
      "]\n"
     ]
    }
   ],
   "source": [
    "from tensorflow.python.client import device_lib\n",
    "print(device_lib.list_local_devices()) # list of DeviceAttributes"
   ]
  },
  {
   "cell_type": "code",
   "execution_count": 2,
   "metadata": {},
   "outputs": [],
   "source": [
    "# original dataset path\n",
    "original_dataset_dir = 'C:/Users/MOHSEN/JupyterProjects/cv_homework/kaggle_original_data/train'\n",
    "\n",
    "# creating a directory for smaller dataset\n",
    "base_dir = 'C:/Users/MOHSEN/JupyterProjects/cv_homework/cats_and_dogs_big'\n",
    "os.mkdir(base_dir)"
   ]
  },
  {
   "cell_type": "code",
   "execution_count": 3,
   "metadata": {},
   "outputs": [],
   "source": [
    "# creating a directory for train data\n",
    "train_dir = os.path.join(base_dir, 'train')\n",
    "os.mkdir(train_dir)\n",
    "\n",
    "# creating a directory for validation data\n",
    "validation_dir = os.path.join(base_dir, 'validation')\n",
    "os.mkdir(validation_dir)\n",
    "\n",
    "# creating a directory for test data\n",
    "test_dir = os.path.join(base_dir, 'test')\n",
    "os.mkdir(test_dir)"
   ]
  },
  {
   "cell_type": "code",
   "execution_count": 4,
   "metadata": {},
   "outputs": [],
   "source": [
    "# creating a directory for cats in training data\n",
    "train_cats_dir = os.path.join(train_dir, 'cats')\n",
    "os.mkdir(train_cats_dir)\n",
    "\n",
    "# creating a directory for dogs in training data\n",
    "train_dogs_dir = os.path.join(train_dir, 'dogs')\n",
    "os.mkdir(train_dogs_dir)"
   ]
  },
  {
   "cell_type": "code",
   "execution_count": 5,
   "metadata": {},
   "outputs": [],
   "source": [
    "# creating a directory for cats in validation data\n",
    "validation_cats_dir = os.path.join(validation_dir, 'cats')\n",
    "os.mkdir(validation_cats_dir)\n",
    "\n",
    "# creating a directory for dogs in validation data\n",
    "validation_dogs_dir = os.path.join(validation_dir, 'dogs')\n",
    "os.mkdir(validation_dogs_dir)"
   ]
  },
  {
   "cell_type": "code",
   "execution_count": 6,
   "metadata": {},
   "outputs": [],
   "source": [
    "# creating a directory for cats in test data\n",
    "test_cats_dir = os.path.join(test_dir, 'cats')\n",
    "os.mkdir(test_cats_dir)\n",
    "\n",
    "# creating a directory for dogs in test data\n",
    "test_dogs_dir = os.path.join(test_dir, 'dogs')\n",
    "os.mkdir(test_dogs_dir)"
   ]
  },
  {
   "cell_type": "code",
   "execution_count": 7,
   "metadata": {},
   "outputs": [],
   "source": [
    "# copying the first 7500 cat images to train_cats_dir\n",
    "fnames = ['cat.{}.jpg'.format(i) for i in range(7500)]\n",
    "for fname in fnames:\n",
    "    src = os.path.join(original_dataset_dir, fname)\n",
    "    dst = os.path.join(train_cats_dir, fname)\n",
    "    shutil.copyfile(src, dst)"
   ]
  },
  {
   "cell_type": "code",
   "execution_count": 8,
   "metadata": {},
   "outputs": [],
   "source": [
    "# copying the next 2500 cat images to validation_cats_dir\n",
    "fnames = ['cat.{}.jpg'.format(i) for i in range(7500, 10000)]\n",
    "for fname in fnames:\n",
    "    src = os.path.join(original_dataset_dir, fname)\n",
    "    dst = os.path.join(validation_cats_dir, fname)\n",
    "    shutil.copyfile(src, dst)"
   ]
  },
  {
   "cell_type": "code",
   "execution_count": 9,
   "metadata": {},
   "outputs": [],
   "source": [
    "# copying the next 2500 cat images to test_cats_dir\n",
    "fnames = ['cat.{}.jpg'.format(i) for i in range(10000, 12500)]\n",
    "for fname in fnames:\n",
    "    src = os.path.join(original_dataset_dir, fname)\n",
    "    dst = os.path.join(test_cats_dir, fname)\n",
    "    shutil.copyfile(src, dst)"
   ]
  },
  {
   "cell_type": "code",
   "execution_count": 10,
   "metadata": {},
   "outputs": [],
   "source": [
    "# copying the first 7500 dog images to train_dogs_dir\n",
    "fnames = ['dog.{}.jpg'.format(i) for i in range(7500)]\n",
    "for fname in fnames:\n",
    "    src = os.path.join(original_dataset_dir, fname)\n",
    "    dst = os.path.join(train_dogs_dir, fname)\n",
    "    shutil.copyfile(src, dst)"
   ]
  },
  {
   "cell_type": "code",
   "execution_count": 11,
   "metadata": {},
   "outputs": [],
   "source": [
    "# copying the next 2500 dog images to validation_dogs_dir\n",
    "fnames = ['dog.{}.jpg'.format(i) for i in range(7500, 10000)]\n",
    "for fname in fnames:\n",
    "    src = os.path.join(original_dataset_dir, fname)\n",
    "    dst = os.path.join(validation_dogs_dir, fname)\n",
    "    shutil.copyfile(src, dst)"
   ]
  },
  {
   "cell_type": "code",
   "execution_count": 12,
   "metadata": {},
   "outputs": [],
   "source": [
    "# copying the next 2500 dog images to test_dogs_dir\n",
    "fnames = ['dog.{}.jpg'.format(i) for i in range(10000, 12500)]\n",
    "for fname in fnames:\n",
    "    src = os.path.join(original_dataset_dir, fname)\n",
    "    dst = os.path.join(test_dogs_dir, fname)\n",
    "    shutil.copyfile(src, dst)"
   ]
  },
  {
   "cell_type": "code",
   "execution_count": 13,
   "metadata": {},
   "outputs": [
    {
     "name": "stdout",
     "output_type": "stream",
     "text": [
      "total training cat images: 7500\n",
      "total training dog images: 7500\n",
      "total validation cat images: 2500\n",
      "total validation dog images: 2500\n",
      "total test cat images: 2500\n",
      "total test dog images: 2500\n"
     ]
    }
   ],
   "source": [
    "print('total training cat images:', len(os.listdir(train_cats_dir)))\n",
    "print('total training dog images:', len(os.listdir(train_dogs_dir)))\n",
    "print('total validation cat images:', len(os.listdir(validation_cats_dir)))\n",
    "print('total validation dog images:', len(os.listdir(validation_dogs_dir)))\n",
    "print('total test cat images:', len(os.listdir(test_cats_dir)))\n",
    "print('total test dog images:', len(os.listdir(test_dogs_dir)))"
   ]
  },
  {
   "cell_type": "code",
   "execution_count": 14,
   "metadata": {},
   "outputs": [],
   "source": [
    "model = models.Sequential()\n",
    "\n",
    "model.add(layers.Conv2D(32, (3, 3), kernel_constraint=maxnorm(3), input_shape=(150, 150, 3)))\n",
    "model.add(layers.Activation('relu'))\n",
    "model.add(layers.MaxPooling2D((2, 2)))\n",
    "\n",
    "model.add(layers.Conv2D(64, (3, 3), kernel_constraint=maxnorm(3)))\n",
    "model.add(layers.Activation('relu'))\n",
    "model.add(layers.BatchNormalization())\n",
    "model.add(layers.MaxPooling2D((2, 2)))\n",
    "\n",
    "model.add(layers.Conv2D(128, (3, 3), kernel_constraint=maxnorm(3)))\n",
    "model.add(layers.Activation('relu'))\n",
    "model.add(layers.MaxPooling2D((2, 2)))\n",
    "\n",
    "model.add(layers.Conv2D(128, (3, 3), kernel_constraint=maxnorm(3)))\n",
    "model.add(layers.Activation('relu'))\n",
    "model.add(layers.MaxPooling2D((2, 2)))\n",
    "\n",
    "model.add(layers.Flatten())\n",
    "\n",
    "model.add(layers.Dropout(0.3))\n",
    "model.add(layers.Dense(512, kernel_constraint=maxnorm(3)))\n",
    "model.add(layers.Activation('relu'))\n",
    "\n",
    "model.add(layers.Dense(1, activation='sigmoid'))"
   ]
  },
  {
   "cell_type": "code",
   "execution_count": 15,
   "metadata": {},
   "outputs": [
    {
     "name": "stdout",
     "output_type": "stream",
     "text": [
      "Model: \"sequential\"\n",
      "_________________________________________________________________\n",
      "Layer (type)                 Output Shape              Param #   \n",
      "=================================================================\n",
      "conv2d (Conv2D)              (None, 148, 148, 32)      896       \n",
      "_________________________________________________________________\n",
      "activation (Activation)      (None, 148, 148, 32)      0         \n",
      "_________________________________________________________________\n",
      "max_pooling2d (MaxPooling2D) (None, 74, 74, 32)        0         \n",
      "_________________________________________________________________\n",
      "conv2d_1 (Conv2D)            (None, 72, 72, 64)        18496     \n",
      "_________________________________________________________________\n",
      "activation_1 (Activation)    (None, 72, 72, 64)        0         \n",
      "_________________________________________________________________\n",
      "batch_normalization (BatchNo (None, 72, 72, 64)        256       \n",
      "_________________________________________________________________\n",
      "max_pooling2d_1 (MaxPooling2 (None, 36, 36, 64)        0         \n",
      "_________________________________________________________________\n",
      "conv2d_2 (Conv2D)            (None, 34, 34, 128)       73856     \n",
      "_________________________________________________________________\n",
      "activation_2 (Activation)    (None, 34, 34, 128)       0         \n",
      "_________________________________________________________________\n",
      "max_pooling2d_2 (MaxPooling2 (None, 17, 17, 128)       0         \n",
      "_________________________________________________________________\n",
      "conv2d_3 (Conv2D)            (None, 15, 15, 128)       147584    \n",
      "_________________________________________________________________\n",
      "activation_3 (Activation)    (None, 15, 15, 128)       0         \n",
      "_________________________________________________________________\n",
      "max_pooling2d_3 (MaxPooling2 (None, 7, 7, 128)         0         \n",
      "_________________________________________________________________\n",
      "flatten (Flatten)            (None, 6272)              0         \n",
      "_________________________________________________________________\n",
      "dropout (Dropout)            (None, 6272)              0         \n",
      "_________________________________________________________________\n",
      "dense (Dense)                (None, 512)               3211776   \n",
      "_________________________________________________________________\n",
      "activation_4 (Activation)    (None, 512)               0         \n",
      "_________________________________________________________________\n",
      "dense_1 (Dense)              (None, 1)                 513       \n",
      "=================================================================\n",
      "Total params: 3,453,377\n",
      "Trainable params: 3,453,249\n",
      "Non-trainable params: 128\n",
      "_________________________________________________________________\n"
     ]
    }
   ],
   "source": [
    "model.summary()"
   ]
  },
  {
   "cell_type": "code",
   "execution_count": 16,
   "metadata": {},
   "outputs": [],
   "source": [
    "model.compile(loss='binary_crossentropy', optimizer=optimizers.RMSprop(lr=1e-4), metrics=['acc'])"
   ]
  },
  {
   "cell_type": "code",
   "execution_count": 17,
   "metadata": {},
   "outputs": [
    {
     "name": "stdout",
     "output_type": "stream",
     "text": [
      "Found 15000 images belonging to 2 classes.\n",
      "Found 5000 images belonging to 2 classes.\n"
     ]
    }
   ],
   "source": [
    "train_datagen = ImageDataGenerator(rescale=1./255, rotation_range=40, width_shift_range=0.2, height_shift_range=0.2, \n",
    "                                   shear_range=0.2, zoom_range=0.2, horizontal_flip=True, fill_mode='nearest')\n",
    "\n",
    "test_datagen = ImageDataGenerator(rescale=1./255)\n",
    "\n",
    "train_generator = train_datagen.flow_from_directory(train_dir, target_size=(150, 150), batch_size=50, class_mode='binary')\n",
    "\n",
    "validation_generator = test_datagen.flow_from_directory(validation_dir, target_size=(150, 150),\n",
    "                                                        batch_size=20, class_mode='binary')"
   ]
  },
  {
   "cell_type": "code",
   "execution_count": 18,
   "metadata": {
    "scrolled": false
   },
   "outputs": [
    {
     "name": "stderr",
     "output_type": "stream",
     "text": [
      "C:\\Users\\MOHSEN\\.conda\\envs\\gpuwork\\lib\\site-packages\\tensorflow\\python\\keras\\engine\\training.py:1844: UserWarning: `Model.fit_generator` is deprecated and will be removed in a future version. Please use `Model.fit`, which supports generators.\n",
      "  warnings.warn('`Model.fit_generator` is deprecated and '\n"
     ]
    },
    {
     "name": "stdout",
     "output_type": "stream",
     "text": [
      "Epoch 1/100\n",
      "300/300 [==============================] - 157s 506ms/step - loss: 0.7005 - acc: 0.5900 - val_loss: 0.6445 - val_acc: 0.7180\n",
      "Epoch 2/100\n",
      "300/300 [==============================] - 81s 270ms/step - loss: 0.5965 - acc: 0.6750 - val_loss: 0.5289 - val_acc: 0.7575\n",
      "Epoch 3/100\n",
      "300/300 [==============================] - 75s 251ms/step - loss: 0.5523 - acc: 0.7143 - val_loss: 0.5288 - val_acc: 0.7305\n",
      "Epoch 4/100\n",
      "300/300 [==============================] - 78s 259ms/step - loss: 0.5357 - acc: 0.7295 - val_loss: 0.4831 - val_acc: 0.7575\n",
      "Epoch 5/100\n",
      "300/300 [==============================] - 77s 256ms/step - loss: 0.5161 - acc: 0.7490 - val_loss: 0.4821 - val_acc: 0.7825\n",
      "Epoch 6/100\n",
      "300/300 [==============================] - 82s 273ms/step - loss: 0.5025 - acc: 0.7588 - val_loss: 0.4353 - val_acc: 0.7975\n",
      "Epoch 7/100\n",
      "300/300 [==============================] - 81s 268ms/step - loss: 0.4951 - acc: 0.7591 - val_loss: 0.4825 - val_acc: 0.7885\n",
      "Epoch 8/100\n",
      "300/300 [==============================] - 77s 256ms/step - loss: 0.4828 - acc: 0.7643 - val_loss: 0.3969 - val_acc: 0.8200\n",
      "Epoch 9/100\n",
      "300/300 [==============================] - 78s 259ms/step - loss: 0.4708 - acc: 0.7745 - val_loss: 0.4425 - val_acc: 0.7970\n",
      "Epoch 10/100\n",
      "300/300 [==============================] - 74s 248ms/step - loss: 0.4632 - acc: 0.7836 - val_loss: 0.4174 - val_acc: 0.8100\n",
      "Epoch 11/100\n",
      "300/300 [==============================] - 76s 253ms/step - loss: 0.4528 - acc: 0.7812 - val_loss: 0.3940 - val_acc: 0.8315\n",
      "Epoch 12/100\n",
      "300/300 [==============================] - 74s 248ms/step - loss: 0.4390 - acc: 0.7939 - val_loss: 0.3936 - val_acc: 0.8325\n",
      "Epoch 13/100\n",
      "300/300 [==============================] - 72s 239ms/step - loss: 0.4244 - acc: 0.7973 - val_loss: 0.4235 - val_acc: 0.8110\n",
      "Epoch 14/100\n",
      "300/300 [==============================] - 70s 232ms/step - loss: 0.4202 - acc: 0.8057 - val_loss: 0.4390 - val_acc: 0.7900\n",
      "Epoch 15/100\n",
      "300/300 [==============================] - 69s 231ms/step - loss: 0.4142 - acc: 0.8128 - val_loss: 0.3602 - val_acc: 0.8505\n",
      "Epoch 16/100\n",
      "300/300 [==============================] - 70s 233ms/step - loss: 0.4077 - acc: 0.8191 - val_loss: 0.3602 - val_acc: 0.8405\n",
      "Epoch 17/100\n",
      "300/300 [==============================] - 69s 231ms/step - loss: 0.4019 - acc: 0.8168 - val_loss: 0.6427 - val_acc: 0.7430\n",
      "Epoch 18/100\n",
      "300/300 [==============================] - 71s 237ms/step - loss: 0.3867 - acc: 0.8258 - val_loss: 0.3251 - val_acc: 0.8625\n",
      "Epoch 19/100\n",
      "300/300 [==============================] - 82s 273ms/step - loss: 0.3945 - acc: 0.8171 - val_loss: 0.3371 - val_acc: 0.8540\n",
      "Epoch 20/100\n",
      "300/300 [==============================] - 85s 281ms/step - loss: 0.3831 - acc: 0.8221 - val_loss: 0.3425 - val_acc: 0.8635\n",
      "Epoch 21/100\n",
      "300/300 [==============================] - 93s 308ms/step - loss: 0.3655 - acc: 0.8323 - val_loss: 0.2934 - val_acc: 0.8760\n",
      "Epoch 22/100\n",
      "300/300 [==============================] - 99s 328ms/step - loss: 0.3639 - acc: 0.8414 - val_loss: 0.3134 - val_acc: 0.8740\n",
      "Epoch 23/100\n",
      "300/300 [==============================] - 97s 324ms/step - loss: 0.3663 - acc: 0.8409 - val_loss: 0.3148 - val_acc: 0.8685\n",
      "Epoch 24/100\n",
      "300/300 [==============================] - 99s 331ms/step - loss: 0.3561 - acc: 0.8466 - val_loss: 0.3626 - val_acc: 0.8620\n",
      "Epoch 25/100\n",
      "300/300 [==============================] - 100s 334ms/step - loss: 0.3489 - acc: 0.8428 - val_loss: 0.2819 - val_acc: 0.8790\n",
      "Epoch 26/100\n",
      "300/300 [==============================] - 97s 323ms/step - loss: 0.3531 - acc: 0.8398 - val_loss: 0.2839 - val_acc: 0.8850\n",
      "Epoch 27/100\n",
      "300/300 [==============================] - 95s 315ms/step - loss: 0.3343 - acc: 0.8516 - val_loss: 0.2960 - val_acc: 0.8785\n",
      "Epoch 28/100\n",
      "300/300 [==============================] - 93s 311ms/step - loss: 0.3295 - acc: 0.8575 - val_loss: 0.3021 - val_acc: 0.8790\n",
      "Epoch 29/100\n",
      "300/300 [==============================] - 91s 302ms/step - loss: 0.3309 - acc: 0.8539 - val_loss: 0.3176 - val_acc: 0.8610\n",
      "Epoch 30/100\n",
      "300/300 [==============================] - 91s 303ms/step - loss: 0.3311 - acc: 0.8586 - val_loss: 0.3167 - val_acc: 0.8670\n",
      "Epoch 31/100\n",
      "300/300 [==============================] - 90s 299ms/step - loss: 0.3162 - acc: 0.8602 - val_loss: 0.2767 - val_acc: 0.8895\n",
      "Epoch 32/100\n",
      "300/300 [==============================] - 92s 307ms/step - loss: 0.3109 - acc: 0.8637 - val_loss: 0.2658 - val_acc: 0.8880\n",
      "Epoch 33/100\n",
      "300/300 [==============================] - 93s 309ms/step - loss: 0.3051 - acc: 0.8691 - val_loss: 0.3058 - val_acc: 0.8835\n",
      "Epoch 34/100\n",
      "300/300 [==============================] - 92s 306ms/step - loss: 0.3118 - acc: 0.8634 - val_loss: 0.2683 - val_acc: 0.8820\n",
      "Epoch 35/100\n",
      "300/300 [==============================] - 91s 302ms/step - loss: 0.3009 - acc: 0.8753 - val_loss: 0.2694 - val_acc: 0.8900\n",
      "Epoch 36/100\n",
      "300/300 [==============================] - 91s 302ms/step - loss: 0.3069 - acc: 0.8707 - val_loss: 0.3436 - val_acc: 0.8695\n",
      "Epoch 37/100\n",
      "300/300 [==============================] - 90s 299ms/step - loss: 0.3037 - acc: 0.8692 - val_loss: 0.2728 - val_acc: 0.8885\n",
      "Epoch 38/100\n",
      "300/300 [==============================] - 91s 302ms/step - loss: 0.3035 - acc: 0.8668 - val_loss: 0.3673 - val_acc: 0.8800\n",
      "Epoch 39/100\n",
      "300/300 [==============================] - 91s 305ms/step - loss: 0.2965 - acc: 0.8716 - val_loss: 0.2953 - val_acc: 0.8935\n",
      "Epoch 40/100\n",
      "300/300 [==============================] - 91s 303ms/step - loss: 0.2798 - acc: 0.8800 - val_loss: 0.2766 - val_acc: 0.8815\n",
      "Epoch 41/100\n",
      "300/300 [==============================] - 91s 304ms/step - loss: 0.2940 - acc: 0.8732 - val_loss: 0.2409 - val_acc: 0.9095\n",
      "Epoch 42/100\n",
      "300/300 [==============================] - 91s 303ms/step - loss: 0.2745 - acc: 0.8822 - val_loss: 0.2510 - val_acc: 0.9015\n",
      "Epoch 43/100\n",
      "300/300 [==============================] - 90s 300ms/step - loss: 0.2853 - acc: 0.8803 - val_loss: 0.2488 - val_acc: 0.9010\n",
      "Epoch 44/100\n",
      "300/300 [==============================] - 86s 286ms/step - loss: 0.2854 - acc: 0.8765 - val_loss: 0.3168 - val_acc: 0.8855\n",
      "Epoch 45/100\n",
      "300/300 [==============================] - 70s 233ms/step - loss: 0.2691 - acc: 0.8869 - val_loss: 0.2623 - val_acc: 0.8845\n",
      "Epoch 46/100\n",
      "300/300 [==============================] - 72s 239ms/step - loss: 0.2641 - acc: 0.8885 - val_loss: 0.2318 - val_acc: 0.9060\n",
      "Epoch 47/100\n",
      "300/300 [==============================] - 73s 242ms/step - loss: 0.2728 - acc: 0.8857 - val_loss: 0.2852 - val_acc: 0.8940\n",
      "Epoch 48/100\n",
      "300/300 [==============================] - 72s 239ms/step - loss: 0.2753 - acc: 0.8832 - val_loss: 0.2568 - val_acc: 0.8995\n",
      "Epoch 49/100\n",
      "300/300 [==============================] - 73s 245ms/step - loss: 0.2649 - acc: 0.8882 - val_loss: 0.5273 - val_acc: 0.8215\n",
      "Epoch 50/100\n",
      "300/300 [==============================] - 73s 242ms/step - loss: 0.2657 - acc: 0.8860 - val_loss: 0.2718 - val_acc: 0.8965\n",
      "Epoch 51/100\n",
      "300/300 [==============================] - 72s 240ms/step - loss: 0.2580 - acc: 0.8910 - val_loss: 0.2280 - val_acc: 0.9025\n",
      "Epoch 52/100\n",
      "300/300 [==============================] - 72s 239ms/step - loss: 0.2621 - acc: 0.8874 - val_loss: 0.2367 - val_acc: 0.8985\n",
      "Epoch 53/100\n",
      "300/300 [==============================] - 71s 236ms/step - loss: 0.2514 - acc: 0.8974 - val_loss: 0.2152 - val_acc: 0.9190\n",
      "Epoch 54/100\n",
      "300/300 [==============================] - 72s 240ms/step - loss: 0.2500 - acc: 0.8959 - val_loss: 0.4297 - val_acc: 0.8760\n",
      "Epoch 55/100\n",
      "300/300 [==============================] - 72s 239ms/step - loss: 0.2588 - acc: 0.8914 - val_loss: 0.2588 - val_acc: 0.9025\n",
      "Epoch 56/100\n",
      "300/300 [==============================] - 73s 242ms/step - loss: 0.2546 - acc: 0.8933 - val_loss: 0.3242 - val_acc: 0.8600\n",
      "Epoch 57/100\n",
      "300/300 [==============================] - 71s 238ms/step - loss: 0.2546 - acc: 0.8922 - val_loss: 0.3097 - val_acc: 0.8950\n",
      "Epoch 58/100\n",
      "300/300 [==============================] - 71s 237ms/step - loss: 0.2456 - acc: 0.8971 - val_loss: 0.2844 - val_acc: 0.8785\n",
      "Epoch 59/100\n",
      "300/300 [==============================] - 71s 238ms/step - loss: 0.2510 - acc: 0.8951 - val_loss: 0.2241 - val_acc: 0.9170\n",
      "Epoch 60/100\n",
      "300/300 [==============================] - 72s 240ms/step - loss: 0.2522 - acc: 0.8940 - val_loss: 0.2221 - val_acc: 0.9180\n"
     ]
    },
    {
     "name": "stdout",
     "output_type": "stream",
     "text": [
      "Epoch 61/100\n",
      "300/300 [==============================] - 72s 238ms/step - loss: 0.2452 - acc: 0.8974 - val_loss: 0.2127 - val_acc: 0.9045\n",
      "Epoch 62/100\n",
      "300/300 [==============================] - 73s 244ms/step - loss: 0.2462 - acc: 0.9014 - val_loss: 0.2607 - val_acc: 0.8875\n",
      "Epoch 63/100\n",
      "300/300 [==============================] - 72s 239ms/step - loss: 0.2349 - acc: 0.8998 - val_loss: 0.2438 - val_acc: 0.9060\n",
      "Epoch 64/100\n",
      "300/300 [==============================] - 71s 238ms/step - loss: 0.2442 - acc: 0.9009 - val_loss: 0.2716 - val_acc: 0.9125\n",
      "Epoch 65/100\n",
      "300/300 [==============================] - 72s 240ms/step - loss: 0.2415 - acc: 0.9012 - val_loss: 0.2174 - val_acc: 0.9145\n",
      "Epoch 66/100\n",
      "300/300 [==============================] - 72s 240ms/step - loss: 0.2306 - acc: 0.9013 - val_loss: 0.1974 - val_acc: 0.9190\n",
      "Epoch 67/100\n",
      "300/300 [==============================] - 72s 239ms/step - loss: 0.2299 - acc: 0.9026 - val_loss: 0.2759 - val_acc: 0.8935\n",
      "Epoch 68/100\n",
      "300/300 [==============================] - 73s 242ms/step - loss: 0.2246 - acc: 0.9104 - val_loss: 0.2217 - val_acc: 0.9205\n",
      "Epoch 69/100\n",
      "300/300 [==============================] - 72s 239ms/step - loss: 0.2452 - acc: 0.8998 - val_loss: 0.2209 - val_acc: 0.9150\n",
      "Epoch 70/100\n",
      "300/300 [==============================] - 71s 236ms/step - loss: 0.2361 - acc: 0.9020 - val_loss: 0.2354 - val_acc: 0.9065\n",
      "Epoch 71/100\n",
      "300/300 [==============================] - 71s 236ms/step - loss: 0.2386 - acc: 0.9032 - val_loss: 0.2227 - val_acc: 0.9060\n",
      "Epoch 72/100\n",
      "300/300 [==============================] - 72s 240ms/step - loss: 0.2329 - acc: 0.9024 - val_loss: 0.4265 - val_acc: 0.8600\n",
      "Epoch 73/100\n",
      "300/300 [==============================] - 72s 241ms/step - loss: 0.2186 - acc: 0.9080 - val_loss: 0.2514 - val_acc: 0.9000\n",
      "Epoch 74/100\n",
      "300/300 [==============================] - 73s 242ms/step - loss: 0.2276 - acc: 0.9040 - val_loss: 0.2152 - val_acc: 0.9200\n",
      "Epoch 75/100\n",
      "300/300 [==============================] - 73s 244ms/step - loss: 0.2268 - acc: 0.9076 - val_loss: 0.3133 - val_acc: 0.8595\n",
      "Epoch 76/100\n",
      "300/300 [==============================] - 73s 242ms/step - loss: 0.2244 - acc: 0.9096 - val_loss: 0.3074 - val_acc: 0.9015\n",
      "Epoch 77/100\n",
      "300/300 [==============================] - 73s 243ms/step - loss: 0.2256 - acc: 0.9074 - val_loss: 0.2164 - val_acc: 0.9275\n",
      "Epoch 78/100\n",
      "300/300 [==============================] - 73s 242ms/step - loss: 0.2287 - acc: 0.9064 - val_loss: 0.1952 - val_acc: 0.9260\n",
      "Epoch 79/100\n",
      "300/300 [==============================] - 72s 240ms/step - loss: 0.2322 - acc: 0.9074 - val_loss: 0.1778 - val_acc: 0.9275\n",
      "Epoch 80/100\n",
      "300/300 [==============================] - 71s 236ms/step - loss: 0.2108 - acc: 0.9108 - val_loss: 0.2303 - val_acc: 0.9120\n",
      "Epoch 81/100\n",
      "300/300 [==============================] - 73s 244ms/step - loss: 0.2238 - acc: 0.9055 - val_loss: 0.1886 - val_acc: 0.9380\n",
      "Epoch 82/100\n",
      "300/300 [==============================] - 73s 244ms/step - loss: 0.2274 - acc: 0.9087 - val_loss: 0.2312 - val_acc: 0.9050\n",
      "Epoch 83/100\n",
      "300/300 [==============================] - 74s 246ms/step - loss: 0.2146 - acc: 0.9128 - val_loss: 0.2036 - val_acc: 0.9195\n",
      "Epoch 84/100\n",
      "300/300 [==============================] - 73s 242ms/step - loss: 0.2211 - acc: 0.9075 - val_loss: 0.3151 - val_acc: 0.8790\n",
      "Epoch 85/100\n",
      "300/300 [==============================] - 71s 237ms/step - loss: 0.2064 - acc: 0.9114 - val_loss: 0.1888 - val_acc: 0.9320\n",
      "Epoch 86/100\n",
      "300/300 [==============================] - 72s 238ms/step - loss: 0.2033 - acc: 0.9126 - val_loss: 0.2351 - val_acc: 0.8990\n",
      "Epoch 87/100\n",
      "300/300 [==============================] - 73s 242ms/step - loss: 0.2145 - acc: 0.9116 - val_loss: 0.1861 - val_acc: 0.9265\n",
      "Epoch 88/100\n",
      "300/300 [==============================] - 73s 243ms/step - loss: 0.2070 - acc: 0.9161 - val_loss: 0.2001 - val_acc: 0.9190\n",
      "Epoch 89/100\n",
      "300/300 [==============================] - 73s 242ms/step - loss: 0.2093 - acc: 0.9161 - val_loss: 0.3440 - val_acc: 0.9125\n",
      "Epoch 90/100\n",
      "300/300 [==============================] - 71s 236ms/step - loss: 0.2204 - acc: 0.9093 - val_loss: 0.1717 - val_acc: 0.9370\n",
      "Epoch 91/100\n",
      "300/300 [==============================] - 72s 239ms/step - loss: 0.2005 - acc: 0.9168 - val_loss: 0.1844 - val_acc: 0.9270\n",
      "Epoch 92/100\n",
      "300/300 [==============================] - 76s 253ms/step - loss: 0.2071 - acc: 0.9166 - val_loss: 0.2027 - val_acc: 0.9300\n",
      "Epoch 93/100\n",
      "300/300 [==============================] - 73s 244ms/step - loss: 0.2127 - acc: 0.9155 - val_loss: 0.2562 - val_acc: 0.9200\n",
      "Epoch 94/100\n",
      "300/300 [==============================] - 74s 248ms/step - loss: 0.2091 - acc: 0.9170 - val_loss: 0.1806 - val_acc: 0.9285\n",
      "Epoch 95/100\n",
      "300/300 [==============================] - 74s 246ms/step - loss: 0.2121 - acc: 0.9119 - val_loss: 0.1961 - val_acc: 0.9200\n",
      "Epoch 96/100\n",
      "300/300 [==============================] - 73s 245ms/step - loss: 0.2043 - acc: 0.9145 - val_loss: 0.2098 - val_acc: 0.9225\n",
      "Epoch 97/100\n",
      "300/300 [==============================] - 73s 243ms/step - loss: 0.2017 - acc: 0.9173 - val_loss: 0.2000 - val_acc: 0.9185\n",
      "Epoch 98/100\n",
      "300/300 [==============================] - 73s 242ms/step - loss: 0.1994 - acc: 0.9199 - val_loss: 0.1870 - val_acc: 0.9260\n",
      "Epoch 99/100\n",
      "300/300 [==============================] - 73s 242ms/step - loss: 0.1938 - acc: 0.9192 - val_loss: 0.1849 - val_acc: 0.9345\n",
      "Epoch 100/100\n",
      "300/300 [==============================] - 73s 243ms/step - loss: 0.1923 - acc: 0.9206 - val_loss: 0.2986 - val_acc: 0.8980\n"
     ]
    }
   ],
   "source": [
    "history = model.fit_generator(train_generator, steps_per_epoch=300, epochs=100,\n",
    "                              validation_data=validation_generator, validation_steps=100)"
   ]
  },
  {
   "cell_type": "code",
   "execution_count": 19,
   "metadata": {},
   "outputs": [],
   "source": [
    "model.save('cats_and_dogs_small_3.h5')"
   ]
  },
  {
   "cell_type": "code",
   "execution_count": 20,
   "metadata": {},
   "outputs": [
    {
     "data": {
      "image/png": "[encoded data removed]",
      "text/plain": [
       "<Figure size 432x288 with 1 Axes>"
      ]
     },
     "metadata": {
      "needs_background": "light"
     },
     "output_type": "display_data"
    },
    {
     "data": {
      "image/png": "[encoded data removed]",
      "text/plain": [
       "<Figure size 432x288 with 1 Axes>"
      ]
     },
     "metadata": {
      "needs_background": "light"
     },
     "output_type": "display_data"
    }
   ],
   "source": [
    "acc = history.history['acc']\n",
    "val_acc = history.history['val_acc']\n",
    "loss = history.history['loss']\n",
    "val_loss = history.history['val_loss']\n",
    "\n",
    "epochs = range(1, len(acc) + 1)\n",
    "\n",
    "plt.plot(epochs, acc, 'bo', label='Training acc')\n",
    "plt.plot(epochs, val_acc, 'b', label='Validation acc')\n",
    "plt.title('Training and validation accuracy')\n",
    "plt.legend()\n",
    "\n",
    "plt.figure()\n",
    "\n",
    "plt.plot(epochs, loss, 'bo', label='Training loss')\n",
    "plt.plot(epochs, val_loss, 'b', label='Validation loss')\n",
    "plt.title('Training and validation loss')\n",
    "plt.legend()\n",
    "\n",
    "plt.show()"
   ]
  },
  {
   "cell_type": "code",
   "execution_count": null,
   "metadata": {},
   "outputs": [],
   "source": []
  },
  {
   "cell_type": "code",
   "execution_count": null,
   "metadata": {},
   "outputs": [],
   "source": []
  }
 ],
 "metadata": {
  "kernelspec": {
   "display_name": "tf25",
   "language": "python",
   "name": "tf25"
  },
  "language_info": {
   "codemirror_mode": {
    "name": "ipython",
    "version": 3
   },
   "file_extension": ".py",
   "mimetype": "text/x-python",
   "name": "python",
   "nbconvert_exporter": "python",
   "pygments_lexer": "ipython3",
   "version": "3.8.11"
  }
 },
 "nbformat": 4,
 "nbformat_minor": 4
}
