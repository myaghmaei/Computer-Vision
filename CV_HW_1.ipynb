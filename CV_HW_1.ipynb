{
 "cells": [
  {
   "cell_type": "code",
   "execution_count": 1,
   "metadata": {
    "scrolled": true
   },
   "outputs": [
    {
     "ename": "ModuleNotFoundError",
     "evalue": "No module named 'keras'",
     "output_type": "error",
     "traceback": [
      "\u001b[1;31m---------------------------------------------------------------------------\u001b[0m",
      "\u001b[1;31mModuleNotFoundError\u001b[0m                       Traceback (most recent call last)",
      "\u001b[1;32m<ipython-input-1-368fb633d9bb>\u001b[0m in \u001b[0;36m<module>\u001b[1;34m\u001b[0m\n\u001b[0;32m      1\u001b[0m \u001b[1;32mimport\u001b[0m \u001b[0mos\u001b[0m\u001b[1;33m\u001b[0m\u001b[1;33m\u001b[0m\u001b[0m\n\u001b[0;32m      2\u001b[0m \u001b[1;32mimport\u001b[0m \u001b[0mshutil\u001b[0m\u001b[1;33m\u001b[0m\u001b[1;33m\u001b[0m\u001b[0m\n\u001b[1;32m----> 3\u001b[1;33m \u001b[1;32mfrom\u001b[0m \u001b[0mkeras\u001b[0m \u001b[1;32mimport\u001b[0m \u001b[0mlayers\u001b[0m\u001b[1;33m\u001b[0m\u001b[1;33m\u001b[0m\u001b[0m\n\u001b[0m\u001b[0;32m      4\u001b[0m \u001b[1;32mfrom\u001b[0m \u001b[0mkeras\u001b[0m \u001b[1;32mimport\u001b[0m \u001b[0mmodels\u001b[0m\u001b[1;33m\u001b[0m\u001b[1;33m\u001b[0m\u001b[0m\n\u001b[0;32m      5\u001b[0m \u001b[1;32mfrom\u001b[0m \u001b[0mkeras\u001b[0m \u001b[1;32mimport\u001b[0m \u001b[0moptimizers\u001b[0m\u001b[1;33m\u001b[0m\u001b[1;33m\u001b[0m\u001b[0m\n",
      "\u001b[1;31mModuleNotFoundError\u001b[0m: No module named 'keras'"
     ]
    }
   ],
   "source": [
    "import os\n",
    "import shutil\n",
    "from keras import layers\n",
    "from keras import models\n",
    "from keras import optimizers\n",
    "from keras.preprocessing.image import ImageDataGenerator\n",
    "import matplotlib.pyplot as plt"
   ]
  },
  {
   "cell_type": "code",
   "execution_count": 23,
   "metadata": {},
   "outputs": [],
   "source": [
    "# original dataset path\n",
    "original_dataset_dir = 'C:/Users/MOHSEN/JupyterProjects/cv_homework/kaggle_original_data/train'\n",
    "\n",
    "# creating a directory for smaller dataset\n",
    "base_dir = 'C:/Users/MOHSEN/JupyterProjects/cv_homework/cats_and_dogs_big'\n",
    "os.mkdir(base_dir)"
   ]
  },
  {
   "cell_type": "code",
   "execution_count": 24,
   "metadata": {},
   "outputs": [],
   "source": [
    "# creating a directory for train data\n",
    "train_dir = os.path.join(base_dir, 'train')\n",
    "os.mkdir(train_dir)\n",
    "\n",
    "# creating a directory for validation data\n",
    "validation_dir = os.path.join(base_dir, 'validation')\n",
    "os.mkdir(validation_dir)\n",
    "\n",
    "# creating a directory for test data\n",
    "test_dir = os.path.join(base_dir, 'test')\n",
    "os.mkdir(test_dir)"
   ]
  },
  {
   "cell_type": "code",
   "execution_count": 25,
   "metadata": {},
   "outputs": [],
   "source": [
    "# creating a directory for cats in training data\n",
    "train_cats_dir = os.path.join(train_dir, 'cats')\n",
    "os.mkdir(train_cats_dir)\n",
    "\n",
    "# creating a directory for dogs in training data\n",
    "train_dogs_dir = os.path.join(train_dir, 'dogs')\n",
    "os.mkdir(train_dogs_dir)"
   ]
  },
  {
   "cell_type": "code",
   "execution_count": 26,
   "metadata": {},
   "outputs": [],
   "source": [
    "# creating a directory for cats in validation data\n",
    "validation_cats_dir = os.path.join(validation_dir, 'cats')\n",
    "os.mkdir(validation_cats_dir)\n",
    "\n",
    "# creating a directory for dogs in validation data\n",
    "validation_dogs_dir = os.path.join(validation_dir, 'dogs')\n",
    "os.mkdir(validation_dogs_dir)"
   ]
  },
  {
   "cell_type": "code",
   "execution_count": 27,
   "metadata": {},
   "outputs": [],
   "source": [
    "# creating a directory for cats in test data\n",
    "test_cats_dir = os.path.join(test_dir, 'cats')\n",
    "os.mkdir(test_cats_dir)\n",
    "\n",
    "# creating a directory for dogs in test data\n",
    "test_dogs_dir = os.path.join(test_dir, 'dogs')\n",
    "os.mkdir(test_dogs_dir)"
   ]
  },
  {
   "cell_type": "code",
   "execution_count": 28,
   "metadata": {},
   "outputs": [],
   "source": [
    "# copying the first 7500 cat images to train_cats_dir\n",
    "fnames = ['cat.{}.jpg'.format(i) for i in range(7500)]\n",
    "for fname in fnames:\n",
    "    src = os.path.join(original_dataset_dir, fname)\n",
    "    dst = os.path.join(train_cats_dir, fname)\n",
    "    shutil.copyfile(src, dst)"
   ]
  },
  {
   "cell_type": "code",
   "execution_count": 29,
   "metadata": {},
   "outputs": [],
   "source": [
    "# copying the next 2500 cat images to validation_cats_dir\n",
    "fnames = ['cat.{}.jpg'.format(i) for i in range(7500, 10000)]\n",
    "for fname in fnames:\n",
    "    src = os.path.join(original_dataset_dir, fname)\n",
    "    dst = os.path.join(validation_cats_dir, fname)\n",
    "    shutil.copyfile(src, dst)"
   ]
  },
  {
   "cell_type": "code",
   "execution_count": 30,
   "metadata": {},
   "outputs": [],
   "source": [
    "# copying the next 2500 cat images to test_cats_dir\n",
    "fnames = ['cat.{}.jpg'.format(i) for i in range(10000, 12500)]\n",
    "for fname in fnames:\n",
    "    src = os.path.join(original_dataset_dir, fname)\n",
    "    dst = os.path.join(test_cats_dir, fname)\n",
    "    shutil.copyfile(src, dst)"
   ]
  },
  {
   "cell_type": "code",
   "execution_count": 31,
   "metadata": {},
   "outputs": [],
   "source": [
    "# copying the first 7500 dog images to train_dogs_dir\n",
    "fnames = ['dog.{}.jpg'.format(i) for i in range(7500)]\n",
    "for fname in fnames:\n",
    "    src = os.path.join(original_dataset_dir, fname)\n",
    "    dst = os.path.join(train_dogs_dir, fname)\n",
    "    shutil.copyfile(src, dst)"
   ]
  },
  {
   "cell_type": "code",
   "execution_count": 32,
   "metadata": {},
   "outputs": [],
   "source": [
    "# copying the next 2500 dog images to validation_dogs_dir\n",
    "fnames = ['dog.{}.jpg'.format(i) for i in range(7500, 10000)]\n",
    "for fname in fnames:\n",
    "    src = os.path.join(original_dataset_dir, fname)\n",
    "    dst = os.path.join(validation_dogs_dir, fname)\n",
    "    shutil.copyfile(src, dst)"
   ]
  },
  {
   "cell_type": "code",
   "execution_count": 33,
   "metadata": {},
   "outputs": [],
   "source": [
    "# copying the next 2500 dog images to test_dogs_dir\n",
    "fnames = ['dog.{}.jpg'.format(i) for i in range(10000, 12500)]\n",
    "for fname in fnames:\n",
    "    src = os.path.join(original_dataset_dir, fname)\n",
    "    dst = os.path.join(test_dogs_dir, fname)\n",
    "    shutil.copyfile(src, dst)"
   ]
  },
  {
   "cell_type": "code",
   "execution_count": 50,
   "metadata": {},
   "outputs": [
    {
     "name": "stdout",
     "output_type": "stream",
     "text": [
      "total training cat images: 7500\n",
      "total training dog images: 7500\n",
      "total validation cat images: 2500\n",
      "total validation dog images: 2500\n",
      "total test cat images: 2500\n",
      "total test dog images: 2500\n"
     ]
    }
   ],
   "source": [
    "print('total training cat images:', len(os.listdir(train_cats_dir)))\n",
    "print('total training dog images:', len(os.listdir(train_dogs_dir)))\n",
    "print('total validation cat images:', len(os.listdir(validation_cats_dir)))\n",
    "print('total validation dog images:', len(os.listdir(validation_dogs_dir)))\n",
    "print('total test cat images:', len(os.listdir(test_cats_dir)))\n",
    "print('total test dog images:', len(os.listdir(test_dogs_dir)))"
   ]
  },
  {
   "cell_type": "code",
   "execution_count": 51,
   "metadata": {},
   "outputs": [],
   "source": [
    "model = models.Sequential()\n",
    "\n",
    "model.add(layers.Conv2D(32, (3, 3), activation='relu', input_shape=(150, 150, 3)))\n",
    "model.add(layers.MaxPooling2D((2, 2)))\n",
    "\n",
    "model.add(layers.Conv2D(64, (3, 3), activation='relu'))\n",
    "model.add(layers.MaxPooling2D((2, 2)))\n",
    "\n",
    "model.add(layers.Conv2D(128, (3, 3), activation='relu'))\n",
    "model.add(layers.MaxPooling2D((2, 2)))\n",
    "\n",
    "model.add(layers.Conv2D(128, (3, 3), activation='relu'))\n",
    "model.add(layers.MaxPooling2D((2, 2)))\n",
    "\n",
    "model.add(layers.Flatten())\n",
    "\n",
    "model.add(layers.Dense(512, activation='relu'))\n",
    "model.add(layers.Dense(1, activation='sigmoid'))"
   ]
  },
  {
   "cell_type": "code",
   "execution_count": 52,
   "metadata": {},
   "outputs": [
    {
     "name": "stdout",
     "output_type": "stream",
     "text": [
      "Model: \"sequential_3\"\n",
      "_________________________________________________________________\n",
      "Layer (type)                 Output Shape              Param #   \n",
      "=================================================================\n",
      "conv2d_12 (Conv2D)           (None, 148, 148, 32)      896       \n",
      "_________________________________________________________________\n",
      "max_pooling2d_12 (MaxPooling (None, 74, 74, 32)        0         \n",
      "_________________________________________________________________\n",
      "conv2d_13 (Conv2D)           (None, 72, 72, 64)        18496     \n",
      "_________________________________________________________________\n",
      "max_pooling2d_13 (MaxPooling (None, 36, 36, 64)        0         \n",
      "_________________________________________________________________\n",
      "conv2d_14 (Conv2D)           (None, 34, 34, 128)       73856     \n",
      "_________________________________________________________________\n",
      "max_pooling2d_14 (MaxPooling (None, 17, 17, 128)       0         \n",
      "_________________________________________________________________\n",
      "conv2d_15 (Conv2D)           (None, 15, 15, 128)       147584    \n",
      "_________________________________________________________________\n",
      "max_pooling2d_15 (MaxPooling (None, 7, 7, 128)         0         \n",
      "_________________________________________________________________\n",
      "flatten_3 (Flatten)          (None, 6272)              0         \n",
      "_________________________________________________________________\n",
      "dense_6 (Dense)              (None, 512)               3211776   \n",
      "_________________________________________________________________\n",
      "dense_7 (Dense)              (None, 1)                 513       \n",
      "=================================================================\n",
      "Total params: 3,453,121\n",
      "Trainable params: 3,453,121\n",
      "Non-trainable params: 0\n",
      "_________________________________________________________________\n"
     ]
    }
   ],
   "source": [
    "model.summary()"
   ]
  },
  {
   "cell_type": "code",
   "execution_count": 53,
   "metadata": {},
   "outputs": [],
   "source": [
    "model.compile(loss='binary_crossentropy', optimizer=optimizers.RMSprop(lr=1e-4), metrics=['acc'])\n"
   ]
  },
  {
   "cell_type": "code",
   "execution_count": 54,
   "metadata": {},
   "outputs": [
    {
     "name": "stdout",
     "output_type": "stream",
     "text": [
      "Found 15000 images belonging to 2 classes.\n",
      "Found 5000 images belonging to 2 classes.\n"
     ]
    }
   ],
   "source": [
    "train_datagen = ImageDataGenerator(rescale=1./255)\n",
    "\n",
    "test_datagen = ImageDataGenerator(rescale=1./255)\n",
    "\n",
    "train_generator = train_datagen.flow_from_directory(train_dir, target_size=(150, 150), batch_size=50, class_mode='binary')\n",
    "\n",
    "validation_generator = test_datagen.flow_from_directory(validation_dir, target_size=(150, 150),\n",
    "                                                        batch_size=20, class_mode='binary')"
   ]
  },
  {
   "cell_type": "code",
   "execution_count": 55,
   "metadata": {
    "scrolled": false
   },
   "outputs": [
    {
     "name": "stdout",
     "output_type": "stream",
     "text": [
      "Epoch 1/30\n",
      "300/300 [==============================] - 195s 649ms/step - loss: 0.6340 - acc: 0.6277 - val_loss: 0.5725 - val_acc: 0.7135\n",
      "Epoch 2/30\n",
      "300/300 [==============================] - 193s 644ms/step - loss: 0.5477 - acc: 0.7188 - val_loss: 0.5158 - val_acc: 0.7465\n",
      "Epoch 3/30\n",
      "300/300 [==============================] - 193s 643ms/step - loss: 0.4936 - acc: 0.7623 - val_loss: 0.5354 - val_acc: 0.7300\n",
      "Epoch 4/30\n",
      "300/300 [==============================] - 192s 640ms/step - loss: 0.4560 - acc: 0.7877 - val_loss: 0.4606 - val_acc: 0.7865\n",
      "Epoch 5/30\n",
      "300/300 [==============================] - 208s 693ms/step - loss: 0.4243 - acc: 0.8071 - val_loss: 0.4215 - val_acc: 0.8095\n",
      "Epoch 6/30\n",
      "300/300 [==============================] - 214s 714ms/step - loss: 0.3975 - acc: 0.8211 - val_loss: 0.4108 - val_acc: 0.8090\n",
      "Epoch 7/30\n",
      "300/300 [==============================] - 197s 655ms/step - loss: 0.3762 - acc: 0.8324 - val_loss: 0.4234 - val_acc: 0.8055\n",
      "Epoch 8/30\n",
      "300/300 [==============================] - 197s 658ms/step - loss: 0.3589 - acc: 0.8422 - val_loss: 0.3821 - val_acc: 0.8240\n",
      "Epoch 9/30\n",
      "300/300 [==============================] - 208s 695ms/step - loss: 0.3365 - acc: 0.8553 - val_loss: 0.4007 - val_acc: 0.8195\n",
      "Epoch 10/30\n",
      "300/300 [==============================] - 209s 698ms/step - loss: 0.3179 - acc: 0.8601 - val_loss: 0.3925 - val_acc: 0.8275\n",
      "Epoch 11/30\n",
      "300/300 [==============================] - 211s 703ms/step - loss: 0.2963 - acc: 0.8745 - val_loss: 0.3689 - val_acc: 0.8345\n",
      "Epoch 12/30\n",
      "300/300 [==============================] - 194s 646ms/step - loss: 0.2820 - acc: 0.8795 - val_loss: 0.4285 - val_acc: 0.8205\n",
      "Epoch 13/30\n",
      "300/300 [==============================] - 192s 641ms/step - loss: 0.2601 - acc: 0.8910 - val_loss: 0.3891 - val_acc: 0.8245\n",
      "Epoch 14/30\n",
      "300/300 [==============================] - 194s 646ms/step - loss: 0.2421 - acc: 0.8993 - val_loss: 0.4126 - val_acc: 0.8120\n",
      "Epoch 15/30\n",
      "300/300 [==============================] - 191s 637ms/step - loss: 0.2232 - acc: 0.9074 - val_loss: 0.3872 - val_acc: 0.8365\n",
      "Epoch 16/30\n",
      "300/300 [==============================] - 191s 636ms/step - loss: 0.2040 - acc: 0.9175 - val_loss: 0.3550 - val_acc: 0.8500\n",
      "Epoch 17/30\n",
      "300/300 [==============================] - 191s 635ms/step - loss: 0.1854 - acc: 0.9267 - val_loss: 0.4027 - val_acc: 0.8370\n",
      "Epoch 18/30\n",
      "300/300 [==============================] - 190s 635ms/step - loss: 0.1688 - acc: 0.9341 - val_loss: 0.4484 - val_acc: 0.8125\n",
      "Epoch 19/30\n",
      "300/300 [==============================] - 192s 640ms/step - loss: 0.1484 - acc: 0.9437 - val_loss: 0.3890 - val_acc: 0.8430\n",
      "Epoch 20/30\n",
      "300/300 [==============================] - 193s 642ms/step - loss: 0.1315 - acc: 0.9506 - val_loss: 0.4334 - val_acc: 0.8380\n",
      "Epoch 21/30\n",
      "300/300 [==============================] - 193s 642ms/step - loss: 0.1166 - acc: 0.9556 - val_loss: 0.4000 - val_acc: 0.8510\n",
      "Epoch 22/30\n",
      "300/300 [==============================] - 192s 641ms/step - loss: 0.1021 - acc: 0.9630 - val_loss: 0.4028 - val_acc: 0.8530\n",
      "Epoch 23/30\n",
      "300/300 [==============================] - 191s 635ms/step - loss: 0.0910 - acc: 0.9677 - val_loss: 0.5567 - val_acc: 0.8240\n",
      "Epoch 24/30\n",
      "300/300 [==============================] - 190s 635ms/step - loss: 0.0788 - acc: 0.9729 - val_loss: 0.4563 - val_acc: 0.8475\n",
      "Epoch 25/30\n",
      "300/300 [==============================] - 191s 635ms/step - loss: 0.0681 - acc: 0.9774 - val_loss: 0.4443 - val_acc: 0.8530\n",
      "Epoch 26/30\n",
      "300/300 [==============================] - 191s 636ms/step - loss: 0.0588 - acc: 0.9815 - val_loss: 0.5083 - val_acc: 0.8345\n",
      "Epoch 27/30\n",
      "300/300 [==============================] - 191s 636ms/step - loss: 0.0486 - acc: 0.9843 - val_loss: 0.4924 - val_acc: 0.8525\n",
      "Epoch 28/30\n",
      "300/300 [==============================] - 191s 636ms/step - loss: 0.0443 - acc: 0.9865 - val_loss: 0.5613 - val_acc: 0.8305\n",
      "Epoch 29/30\n",
      "300/300 [==============================] - 573s 2s/step - loss: 0.0360 - acc: 0.9895 - val_loss: 0.5367 - val_acc: 0.8510\n",
      "Epoch 30/30\n",
      "300/300 [==============================] - 204s 681ms/step - loss: 0.0324 - acc: 0.9904 - val_loss: 0.6217 - val_acc: 0.8475\n"
     ]
    }
   ],
   "source": [
    "history = model.fit_generator(train_generator, steps_per_epoch=300, epochs=30,\n",
    "                              validation_data=validation_generator, validation_steps=100)"
   ]
  },
  {
   "cell_type": "code",
   "execution_count": 56,
   "metadata": {},
   "outputs": [],
   "source": [
    "model.save('cats_and_dogs_small_1.h5')"
   ]
  },
  {
   "cell_type": "code",
   "execution_count": 57,
   "metadata": {},
   "outputs": [
    {
     "data": {
      "image/png": "[encoded data removed]",
      "text/plain": [
       "<Figure size 432x288 with 1 Axes>"
      ]
     },
     "metadata": {
      "needs_background": "light"
     },
     "output_type": "display_data"
    },
    {
     "data": {
      "image/png": "[encoded data removed]",
      "text/plain": [
       "<Figure size 432x288 with 1 Axes>"
      ]
     },
     "metadata": {
      "needs_background": "light"
     },
     "output_type": "display_data"
    }
   ],
   "source": [
    "acc = history.history['acc']\n",
    "val_acc = history.history['val_acc']\n",
    "loss = history.history['loss']\n",
    "val_loss = history.history['val_loss']\n",
    "\n",
    "epochs = range(1, len(acc) + 1)\n",
    "\n",
    "plt.plot(epochs, acc, 'bo', label='Training acc')\n",
    "plt.plot(epochs, val_acc, 'b', label='Validation acc')\n",
    "plt.title('Training and validation accuracy')\n",
    "plt.legend()\n",
    "\n",
    "plt.figure()\n",
    "\n",
    "plt.plot(epochs, loss, 'bo', label='Training loss')\n",
    "plt.plot(epochs, val_loss, 'b', label='Validation loss')\n",
    "plt.title('Training and validation loss')\n",
    "plt.legend()\n",
    "\n",
    "plt.show()"
   ]
  },
  {
   "cell_type": "code",
   "execution_count": null,
   "metadata": {},
   "outputs": [],
   "source": [
    "train_datagen = ImageDataGenerator(rescale=1./255, rotation_range=40, width_shift_range=0.2, height_shift_range=0.2, \n",
    "                                   shear_range=0.2, zoom_range=0.2, horizontal_flip=True, fill_mode='nearest')\n",
    "\n",
    ", kernel_constraint=maxnorm(3)\n",
    "\n",
    "model.add(layers.BatchNormalization())"
   ]
  }
 ],
 "metadata": {
  "kernelspec": {
   "display_name": "cvclass",
   "language": "python",
   "name": "cvclass"
  },
  "language_info": {
   "codemirror_mode": {
    "name": "ipython",
    "version": 3
   },
   "file_extension": ".py",
   "mimetype": "text/x-python",
   "name": "python",
   "nbconvert_exporter": "python",
   "pygments_lexer": "ipython3",
   "version": "3.8.5"
  }
 },
 "nbformat": 4,
 "nbformat_minor": 5
}
