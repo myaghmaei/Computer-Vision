{
 "cells": [
  {
   "cell_type": "code",
   "execution_count": 1,
   "metadata": {},
   "outputs": [],
   "source": [
    "import os\n",
    "import shutil\n",
    "import numpy as np\n",
    "from keras import layers\n",
    "from keras import models\n",
    "from keras import optimizers\n",
    "from keras.preprocessing.image import ImageDataGenerator\n",
    "import matplotlib.pyplot as plt\n",
    "from keras.constraints import maxnorm"
   ]
  },
  {
   "cell_type": "code",
   "execution_count": 2,
   "metadata": {},
   "outputs": [],
   "source": [
    "from keras.applications.vgg16 import VGG16\n",
    "\n",
    "conv_base = VGG16(weights='imagenet', include_top=False, input_shape=(150, 150, 3))"
   ]
  },
  {
   "cell_type": "code",
   "execution_count": 3,
   "metadata": {},
   "outputs": [],
   "source": [
    "base_dir = 'C:/Users/MOHSEN/JupyterProjects/cv_homework/cats_and_dogs_big'\n",
    "train_dir = os.path.join(base_dir, 'train')\n",
    "validation_dir = os.path.join(base_dir, 'validation')\n",
    "test_dir = os.path.join(base_dir, 'test')"
   ]
  },
  {
   "cell_type": "code",
   "execution_count": 4,
   "metadata": {},
   "outputs": [],
   "source": [
    "# datagen = ImageDataGenerator(rescale=1./255)\n",
    "# batch_size = 20"
   ]
  },
  {
   "cell_type": "code",
   "execution_count": 5,
   "metadata": {},
   "outputs": [],
   "source": [
    "# def extract_features(directory, sample_count):\n",
    "    \n",
    "#     features = np.zeros(shape=(sample_count, 4, 4, 512))\n",
    "#     labels = np.zeros(shape=(sample_count))\n",
    "\n",
    "#     generator = datagen.flow_from_directory(directory, target_size=(150, 150),\n",
    "#                                                 batch_size=batch_size, class_mode='binary')\n",
    "\n",
    "#     i=0\n",
    "#     for inputs_batch, labels_batch in generator:\n",
    "#         features_batch = conv_base.predict(inputs_batch)\n",
    "#         features[i * batch_size : (i + 1) * batch_size] = features_batch\n",
    "#         labels[i * batch_size : (i + 1) * batch_size] = labels_batch\n",
    "#         i += 1\n",
    "#         if i * batch_size >= sample_count:\n",
    "#             break\n",
    "\n",
    "#     return features, labels"
   ]
  },
  {
   "cell_type": "code",
   "execution_count": 6,
   "metadata": {},
   "outputs": [],
   "source": [
    "# train_features, train_labels = extract_features(train_dir, 15000)\n",
    "# validation_features, validation_labels = extract_features(validation_dir, 5000)\n",
    "# test_features, test_labels = extract_features(test_dir, 5000)"
   ]
  },
  {
   "cell_type": "code",
   "execution_count": 7,
   "metadata": {},
   "outputs": [],
   "source": [
    "# train_features = np.reshape(train_features, (15000, 4*4* 512))\n",
    "# validation_features = np.reshape(validation_features, (5000, 4*4* 512))\n",
    "# test_features = np.reshape(test_features, (5000, 4*4* 512))"
   ]
  },
  {
   "cell_type": "code",
   "execution_count": 4,
   "metadata": {},
   "outputs": [],
   "source": [
    "model = models.Sequential()\n",
    "\n",
    "model.add(conv_base)\n",
    "\n",
    "model.add(layers.Flatten())\n",
    "\n",
    "# model.add(layers.Dropout(0.3))\n",
    "model.add(layers.Dense(256, activation='relu'))\n",
    "model.add(layers.Dense(1, activation='sigmoid'))"
   ]
  },
  {
   "cell_type": "code",
   "execution_count": 5,
   "metadata": {},
   "outputs": [
    {
     "name": "stdout",
     "output_type": "stream",
     "text": [
      "Model: \"vgg16\"\n",
      "_________________________________________________________________\n",
      "Layer (type)                 Output Shape              Param #   \n",
      "=================================================================\n",
      "input_1 (InputLayer)         [(None, 150, 150, 3)]     0         \n",
      "_________________________________________________________________\n",
      "block1_conv1 (Conv2D)        (None, 150, 150, 64)      1792      \n",
      "_________________________________________________________________\n",
      "block1_conv2 (Conv2D)        (None, 150, 150, 64)      36928     \n",
      "_________________________________________________________________\n",
      "block1_pool (MaxPooling2D)   (None, 75, 75, 64)        0         \n",
      "_________________________________________________________________\n",
      "block2_conv1 (Conv2D)        (None, 75, 75, 128)       73856     \n",
      "_________________________________________________________________\n",
      "block2_conv2 (Conv2D)        (None, 75, 75, 128)       147584    \n",
      "_________________________________________________________________\n",
      "block2_pool (MaxPooling2D)   (None, 37, 37, 128)       0         \n",
      "_________________________________________________________________\n",
      "block3_conv1 (Conv2D)        (None, 37, 37, 256)       295168    \n",
      "_________________________________________________________________\n",
      "block3_conv2 (Conv2D)        (None, 37, 37, 256)       590080    \n",
      "_________________________________________________________________\n",
      "block3_conv3 (Conv2D)        (None, 37, 37, 256)       590080    \n",
      "_________________________________________________________________\n",
      "block3_pool (MaxPooling2D)   (None, 18, 18, 256)       0         \n",
      "_________________________________________________________________\n",
      "block4_conv1 (Conv2D)        (None, 18, 18, 512)       1180160   \n",
      "_________________________________________________________________\n",
      "block4_conv2 (Conv2D)        (None, 18, 18, 512)       2359808   \n",
      "_________________________________________________________________\n",
      "block4_conv3 (Conv2D)        (None, 18, 18, 512)       2359808   \n",
      "_________________________________________________________________\n",
      "block4_pool (MaxPooling2D)   (None, 9, 9, 512)         0         \n",
      "_________________________________________________________________\n",
      "block5_conv1 (Conv2D)        (None, 9, 9, 512)         2359808   \n",
      "_________________________________________________________________\n",
      "block5_conv2 (Conv2D)        (None, 9, 9, 512)         2359808   \n",
      "_________________________________________________________________\n",
      "block5_conv3 (Conv2D)        (None, 9, 9, 512)         2359808   \n",
      "_________________________________________________________________\n",
      "block5_pool (MaxPooling2D)   (None, 4, 4, 512)         0         \n",
      "=================================================================\n",
      "Total params: 14,714,688\n",
      "Trainable params: 14,714,688\n",
      "Non-trainable params: 0\n",
      "_________________________________________________________________\n"
     ]
    }
   ],
   "source": [
    "conv_base.summary()"
   ]
  },
  {
   "cell_type": "code",
   "execution_count": 6,
   "metadata": {},
   "outputs": [
    {
     "name": "stdout",
     "output_type": "stream",
     "text": [
      "This is the number of trainable weights before freezing the conv base: 30\n"
     ]
    }
   ],
   "source": [
    "print('This is the number of trainable weights '\n",
    "'before freezing the conv base:', len(model.trainable_weights))"
   ]
  },
  {
   "cell_type": "code",
   "execution_count": 7,
   "metadata": {},
   "outputs": [],
   "source": [
    "conv_base.trainable = False"
   ]
  },
  {
   "cell_type": "code",
   "execution_count": 8,
   "metadata": {},
   "outputs": [
    {
     "name": "stdout",
     "output_type": "stream",
     "text": [
      "This is the number of trainable weights before freezing the conv base: 4\n"
     ]
    }
   ],
   "source": [
    "print('This is the number of trainable weights before freezing the conv base:', len(model.trainable_weights))"
   ]
  },
  {
   "cell_type": "code",
   "execution_count": 9,
   "metadata": {},
   "outputs": [
    {
     "name": "stdout",
     "output_type": "stream",
     "text": [
      "Found 15000 images belonging to 2 classes.\n",
      "Found 5000 images belonging to 2 classes.\n"
     ]
    }
   ],
   "source": [
    "train_datagen = ImageDataGenerator(rescale=1./255, rotation_range=40, width_shift_range=0.2, height_shift_range=0.2, \n",
    "                                   shear_range=0.2, zoom_range=0.2, horizontal_flip=True, fill_mode='nearest')\n",
    "\n",
    "\n",
    "test_datagen = ImageDataGenerator(rescale=1./255)\n",
    "\n",
    "train_generator = train_datagen.flow_from_directory(train_dir, target_size=(150, 150), batch_size=100, class_mode='binary')\n",
    "\n",
    "validation_generator = test_datagen.flow_from_directory(validation_dir, target_size=(150, 150),\n",
    "                                                        batch_size=50, class_mode='binary')"
   ]
  },
  {
   "cell_type": "code",
   "execution_count": 10,
   "metadata": {
    "scrolled": false
   },
   "outputs": [
    {
     "name": "stderr",
     "output_type": "stream",
     "text": [
      "C:\\Users\\MOHSEN\\.conda\\envs\\gpuwork\\lib\\site-packages\\tensorflow\\python\\keras\\engine\\training.py:1844: UserWarning: `Model.fit_generator` is deprecated and will be removed in a future version. Please use `Model.fit`, which supports generators.\n",
      "  warnings.warn('`Model.fit_generator` is deprecated and '\n"
     ]
    },
    {
     "name": "stdout",
     "output_type": "stream",
     "text": [
      "Epoch 1/60\n",
      "150/150 [==============================] - 87s 531ms/step - loss: 0.5579 - acc: 0.7160 - val_loss: 0.2693 - val_acc: 0.8838\n",
      "Epoch 2/60\n",
      "150/150 [==============================] - 75s 501ms/step - loss: 0.3769 - acc: 0.8253 - val_loss: 0.2622 - val_acc: 0.8850\n",
      "Epoch 3/60\n",
      "150/150 [==============================] - 75s 501ms/step - loss: 0.3432 - acc: 0.8467 - val_loss: 0.2563 - val_acc: 0.8888\n",
      "Epoch 4/60\n",
      "150/150 [==============================] - 75s 503ms/step - loss: 0.3389 - acc: 0.8469 - val_loss: 0.2286 - val_acc: 0.9018\n",
      "Epoch 5/60\n",
      "150/150 [==============================] - 77s 512ms/step - loss: 0.3196 - acc: 0.8601 - val_loss: 0.2602 - val_acc: 0.8882\n",
      "Epoch 6/60\n",
      "150/150 [==============================] - 76s 504ms/step - loss: 0.3267 - acc: 0.8520 - val_loss: 0.2239 - val_acc: 0.9050\n",
      "Epoch 7/60\n",
      "150/150 [==============================] - 76s 504ms/step - loss: 0.3045 - acc: 0.8640 - val_loss: 0.2152 - val_acc: 0.9108\n",
      "Epoch 8/60\n",
      "150/150 [==============================] - 76s 504ms/step - loss: 0.3068 - acc: 0.8603 - val_loss: 0.2129 - val_acc: 0.9116\n",
      "Epoch 9/60\n",
      "150/150 [==============================] - 76s 509ms/step - loss: 0.2954 - acc: 0.8689 - val_loss: 0.2169 - val_acc: 0.9092\n",
      "Epoch 10/60\n",
      "150/150 [==============================] - 76s 503ms/step - loss: 0.2881 - acc: 0.8740 - val_loss: 0.2075 - val_acc: 0.9150\n",
      "Epoch 11/60\n",
      "150/150 [==============================] - 76s 503ms/step - loss: 0.2957 - acc: 0.8686 - val_loss: 0.2054 - val_acc: 0.9128\n",
      "Epoch 12/60\n",
      "150/150 [==============================] - 76s 505ms/step - loss: 0.2848 - acc: 0.8749 - val_loss: 0.2033 - val_acc: 0.9154\n",
      "Epoch 13/60\n",
      "150/150 [==============================] - 76s 507ms/step - loss: 0.2766 - acc: 0.8795 - val_loss: 0.2086 - val_acc: 0.9110\n",
      "Epoch 14/60\n",
      "150/150 [==============================] - 75s 498ms/step - loss: 0.2867 - acc: 0.8773 - val_loss: 0.2416 - val_acc: 0.8984\n",
      "Epoch 15/60\n",
      "150/150 [==============================] - 75s 499ms/step - loss: 0.2823 - acc: 0.8772 - val_loss: 0.2014 - val_acc: 0.9152\n",
      "Epoch 16/60\n",
      "150/150 [==============================] - 76s 509ms/step - loss: 0.2808 - acc: 0.8779 - val_loss: 0.2021 - val_acc: 0.9186\n",
      "Epoch 17/60\n",
      "150/150 [==============================] - 78s 522ms/step - loss: 0.2637 - acc: 0.8878 - val_loss: 0.2055 - val_acc: 0.9148\n",
      "Epoch 18/60\n",
      "150/150 [==============================] - 76s 508ms/step - loss: 0.2742 - acc: 0.8793 - val_loss: 0.1990 - val_acc: 0.9194\n",
      "Epoch 19/60\n",
      "150/150 [==============================] - 75s 501ms/step - loss: 0.2794 - acc: 0.8769 - val_loss: 0.2042 - val_acc: 0.9162\n",
      "Epoch 20/60\n",
      "150/150 [==============================] - 75s 501ms/step - loss: 0.2613 - acc: 0.8834 - val_loss: 0.1973 - val_acc: 0.9182\n",
      "Epoch 21/60\n",
      "150/150 [==============================] - 75s 501ms/step - loss: 0.2634 - acc: 0.8880 - val_loss: 0.1972 - val_acc: 0.9186\n",
      "Epoch 22/60\n",
      "150/150 [==============================] - 76s 508ms/step - loss: 0.2572 - acc: 0.8873 - val_loss: 0.2154 - val_acc: 0.9106\n",
      "Epoch 23/60\n",
      "150/150 [==============================] - 77s 516ms/step - loss: 0.2474 - acc: 0.8928 - val_loss: 0.2165 - val_acc: 0.9118\n",
      "Epoch 24/60\n",
      "150/150 [==============================] - 78s 518ms/step - loss: 0.2544 - acc: 0.8902 - val_loss: 0.1971 - val_acc: 0.9180\n",
      "Epoch 25/60\n",
      "150/150 [==============================] - 79s 527ms/step - loss: 0.2581 - acc: 0.8886 - val_loss: 0.2021 - val_acc: 0.9150\n",
      "Epoch 26/60\n",
      "150/150 [==============================] - 97s 649ms/step - loss: 0.2518 - acc: 0.8926 - val_loss: 0.2266 - val_acc: 0.9050\n",
      "Epoch 27/60\n",
      "150/150 [==============================] - 75s 502ms/step - loss: 0.2469 - acc: 0.8931 - val_loss: 0.1971 - val_acc: 0.9186\n",
      "Epoch 28/60\n",
      "150/150 [==============================] - 74s 493ms/step - loss: 0.2582 - acc: 0.8924 - val_loss: 0.1945 - val_acc: 0.9182\n",
      "Epoch 29/60\n",
      "150/150 [==============================] - 74s 494ms/step - loss: 0.2503 - acc: 0.8899 - val_loss: 0.2080 - val_acc: 0.9138\n",
      "Epoch 30/60\n",
      "150/150 [==============================] - 74s 492ms/step - loss: 0.2492 - acc: 0.8915 - val_loss: 0.2002 - val_acc: 0.9168\n",
      "Epoch 31/60\n",
      "150/150 [==============================] - 74s 493ms/step - loss: 0.2435 - acc: 0.8958 - val_loss: 0.1933 - val_acc: 0.9198\n",
      "Epoch 32/60\n",
      "150/150 [==============================] - 74s 493ms/step - loss: 0.2430 - acc: 0.8957 - val_loss: 0.1920 - val_acc: 0.9198\n",
      "Epoch 33/60\n",
      "150/150 [==============================] - 74s 492ms/step - loss: 0.2433 - acc: 0.8957 - val_loss: 0.1932 - val_acc: 0.9208\n",
      "Epoch 34/60\n",
      "150/150 [==============================] - 74s 492ms/step - loss: 0.2395 - acc: 0.8992 - val_loss: 0.2062 - val_acc: 0.9146\n",
      "Epoch 35/60\n",
      "150/150 [==============================] - 74s 493ms/step - loss: 0.2361 - acc: 0.8983 - val_loss: 0.1964 - val_acc: 0.9208\n",
      "Epoch 36/60\n",
      "150/150 [==============================] - 74s 493ms/step - loss: 0.2328 - acc: 0.9009 - val_loss: 0.1945 - val_acc: 0.9192\n",
      "Epoch 37/60\n",
      "150/150 [==============================] - 74s 492ms/step - loss: 0.2315 - acc: 0.9051 - val_loss: 0.1903 - val_acc: 0.9214\n",
      "Epoch 38/60\n",
      "150/150 [==============================] - 74s 493ms/step - loss: 0.2362 - acc: 0.8998 - val_loss: 0.2048 - val_acc: 0.9202\n",
      "Epoch 39/60\n",
      "150/150 [==============================] - 74s 494ms/step - loss: 0.2332 - acc: 0.9005 - val_loss: 0.2072 - val_acc: 0.9158\n",
      "Epoch 40/60\n",
      "150/150 [==============================] - 74s 493ms/step - loss: 0.2335 - acc: 0.8992 - val_loss: 0.1896 - val_acc: 0.9234\n",
      "Epoch 41/60\n",
      "150/150 [==============================] - 74s 493ms/step - loss: 0.2222 - acc: 0.9051 - val_loss: 0.2001 - val_acc: 0.9156\n",
      "Epoch 42/60\n",
      "150/150 [==============================] - 74s 492ms/step - loss: 0.2392 - acc: 0.8984 - val_loss: 0.1859 - val_acc: 0.9256\n",
      "Epoch 43/60\n",
      "150/150 [==============================] - 77s 512ms/step - loss: 0.2194 - acc: 0.9094 - val_loss: 0.1865 - val_acc: 0.9248\n",
      "Epoch 44/60\n",
      "150/150 [==============================] - 75s 501ms/step - loss: 0.2157 - acc: 0.9134 - val_loss: 0.2270 - val_acc: 0.9096\n",
      "Epoch 45/60\n",
      "150/150 [==============================] - 75s 502ms/step - loss: 0.2341 - acc: 0.9003 - val_loss: 0.2059 - val_acc: 0.9172\n",
      "Epoch 46/60\n",
      "150/150 [==============================] - 75s 502ms/step - loss: 0.2243 - acc: 0.9059 - val_loss: 0.1931 - val_acc: 0.9208\n",
      "Epoch 47/60\n",
      "150/150 [==============================] - 75s 503ms/step - loss: 0.2189 - acc: 0.9106 - val_loss: 0.2145 - val_acc: 0.9134\n",
      "Epoch 48/60\n",
      "150/150 [==============================] - 75s 502ms/step - loss: 0.2260 - acc: 0.9063 - val_loss: 0.2230 - val_acc: 0.9104\n",
      "Epoch 49/60\n",
      "150/150 [==============================] - 75s 503ms/step - loss: 0.2209 - acc: 0.9072 - val_loss: 0.2260 - val_acc: 0.9090\n",
      "Epoch 50/60\n",
      "150/150 [==============================] - 75s 502ms/step - loss: 0.2252 - acc: 0.9041 - val_loss: 0.1879 - val_acc: 0.9258\n",
      "Epoch 51/60\n",
      "150/150 [==============================] - 75s 501ms/step - loss: 0.2271 - acc: 0.9021 - val_loss: 0.1901 - val_acc: 0.9200\n",
      "Epoch 52/60\n",
      "150/150 [==============================] - 75s 499ms/step - loss: 0.2179 - acc: 0.9095 - val_loss: 0.1896 - val_acc: 0.9224\n",
      "Epoch 53/60\n",
      "150/150 [==============================] - 75s 500ms/step - loss: 0.2134 - acc: 0.9105 - val_loss: 0.1880 - val_acc: 0.9236\n",
      "Epoch 54/60\n",
      "150/150 [==============================] - 75s 498ms/step - loss: 0.2190 - acc: 0.9070 - val_loss: 0.2004 - val_acc: 0.9194\n",
      "Epoch 55/60\n",
      "150/150 [==============================] - 75s 499ms/step - loss: 0.2120 - acc: 0.9099 - val_loss: 0.2091 - val_acc: 0.9128\n",
      "Epoch 56/60\n",
      "150/150 [==============================] - 75s 498ms/step - loss: 0.2124 - acc: 0.9125 - val_loss: 0.1939 - val_acc: 0.9214\n",
      "Epoch 57/60\n",
      "150/150 [==============================] - 75s 499ms/step - loss: 0.2107 - acc: 0.9085 - val_loss: 0.1876 - val_acc: 0.9266\n",
      "Epoch 58/60\n",
      "150/150 [==============================] - 78s 517ms/step - loss: 0.2132 - acc: 0.9117 - val_loss: 0.1865 - val_acc: 0.9272\n",
      "Epoch 59/60\n",
      "150/150 [==============================] - 76s 509ms/step - loss: 0.2118 - acc: 0.9114 - val_loss: 0.1908 - val_acc: 0.9256\n",
      "Epoch 60/60\n",
      "150/150 [==============================] - 81s 542ms/step - loss: 0.2112 - acc: 0.9136 - val_loss: 0.1923 - val_acc: 0.9208\n"
     ]
    }
   ],
   "source": [
    "model.compile(loss='binary_crossentropy', optimizer=optimizers.RMSprop(lr=1e-4), metrics=['acc'])\n",
    "\n",
    "history = model.fit_generator(train_generator, steps_per_epoch=150, epochs=60,\n",
    "                              validation_data=validation_generator, validation_steps=100)"
   ]
  },
  {
   "cell_type": "code",
   "execution_count": 11,
   "metadata": {},
   "outputs": [
    {
     "data": {
      "image/png": "[encoded data removed]",
      "text/plain": [
       "<Figure size 432x288 with 1 Axes>"
      ]
     },
     "metadata": {
      "needs_background": "light"
     },
     "output_type": "display_data"
    },
    {
     "data": {
      "image/png": "[encoded data removed]",
      "text/plain": [
       "<Figure size 432x288 with 1 Axes>"
      ]
     },
     "metadata": {
      "needs_background": "light"
     },
     "output_type": "display_data"
    }
   ],
   "source": [
    "acc = history.history['acc']\n",
    "val_acc = history.history['val_acc']\n",
    "loss = history.history['loss']\n",
    "val_loss = history.history['val_loss']\n",
    "epochs = range(1, len(acc) + 1)\n",
    "plt.plot(epochs, acc, 'bo', label='Training acc')\n",
    "plt.plot(epochs, val_acc, 'b', label='Validation acc')\n",
    "plt.title('Training and validation accuracy')\n",
    "plt.legend()\n",
    "plt.figure()\n",
    "plt.plot(epochs, loss, 'bo', label='Training loss')\n",
    "plt.plot(epochs, val_loss, 'b', label='Validation loss')\n",
    "plt.title('Training and validation loss')\n",
    "plt.legend()\n",
    "plt.show()"
   ]
  },
  {
   "cell_type": "code",
   "execution_count": 12,
   "metadata": {},
   "outputs": [],
   "source": [
    "conv_base.trainable = True\n",
    "\n",
    "set_trainable = False\n",
    "\n",
    "for layer in conv_base.layers:\n",
    "    if layer.name == 'block5_conv2':\n",
    "        set_trainable = True\n",
    "    if set_trainable:\n",
    "        layer.trainable = True\n",
    "    else:\n",
    "        layer.trainable = False"
   ]
  },
  {
   "cell_type": "code",
   "execution_count": 13,
   "metadata": {},
   "outputs": [
    {
     "name": "stdout",
     "output_type": "stream",
     "text": [
      "This is the number of trainable weights before freezing the conv base: 8\n"
     ]
    }
   ],
   "source": [
    "print('This is the number of trainable weights before freezing the conv base:', len(model.trainable_weights))"
   ]
  },
  {
   "cell_type": "code",
   "execution_count": 14,
   "metadata": {
    "scrolled": false
   },
   "outputs": [
    {
     "name": "stdout",
     "output_type": "stream",
     "text": [
      "Epoch 1/60\n",
      "150/150 [==============================] - 81s 531ms/step - loss: 0.8803 - acc: 0.8155 - val_loss: 0.4596 - val_acc: 0.8372\n",
      "Epoch 2/60\n",
      "150/150 [==============================] - 80s 531ms/step - loss: 0.2850 - acc: 0.8786 - val_loss: 0.2196 - val_acc: 0.9170\n",
      "Epoch 3/60\n",
      "150/150 [==============================] - 80s 531ms/step - loss: 0.2383 - acc: 0.9026 - val_loss: 0.1794 - val_acc: 0.9302\n",
      "Epoch 4/60\n",
      "150/150 [==============================] - 80s 531ms/step - loss: 0.2231 - acc: 0.9072 - val_loss: 0.1621 - val_acc: 0.9352\n",
      "Epoch 5/60\n",
      "150/150 [==============================] - 80s 536ms/step - loss: 0.2157 - acc: 0.9136 - val_loss: 0.1824 - val_acc: 0.9390\n",
      "Epoch 6/60\n",
      "150/150 [==============================] - 79s 529ms/step - loss: 0.2021 - acc: 0.9163 - val_loss: 0.1552 - val_acc: 0.9428\n",
      "Epoch 7/60\n",
      "150/150 [==============================] - 80s 530ms/step - loss: 0.1991 - acc: 0.9137 - val_loss: 0.1476 - val_acc: 0.9448\n",
      "Epoch 8/60\n",
      "150/150 [==============================] - 78s 519ms/step - loss: 0.1825 - acc: 0.9261 - val_loss: 0.1937 - val_acc: 0.9302\n",
      "Epoch 9/60\n",
      "150/150 [==============================] - 75s 502ms/step - loss: 0.1849 - acc: 0.9273 - val_loss: 0.1483 - val_acc: 0.9430\n",
      "Epoch 10/60\n",
      "150/150 [==============================] - 76s 503ms/step - loss: 0.1615 - acc: 0.9366 - val_loss: 0.1862 - val_acc: 0.9400\n",
      "Epoch 11/60\n",
      "150/150 [==============================] - 75s 502ms/step - loss: 0.1826 - acc: 0.9252 - val_loss: 0.1545 - val_acc: 0.9506\n",
      "Epoch 12/60\n",
      "150/150 [==============================] - 75s 502ms/step - loss: 0.1623 - acc: 0.9330 - val_loss: 0.1585 - val_acc: 0.9472\n",
      "Epoch 13/60\n",
      "150/150 [==============================] - 75s 502ms/step - loss: 0.1541 - acc: 0.9379 - val_loss: 0.1524 - val_acc: 0.9476\n",
      "Epoch 14/60\n",
      "150/150 [==============================] - 76s 503ms/step - loss: 0.1560 - acc: 0.9410 - val_loss: 0.1626 - val_acc: 0.9436\n",
      "Epoch 15/60\n",
      "150/150 [==============================] - 75s 502ms/step - loss: 0.1561 - acc: 0.9372 - val_loss: 0.1619 - val_acc: 0.9512\n",
      "Epoch 16/60\n",
      "150/150 [==============================] - 76s 503ms/step - loss: 0.1422 - acc: 0.9455 - val_loss: 0.1483 - val_acc: 0.9456\n",
      "Epoch 17/60\n",
      "150/150 [==============================] - 75s 502ms/step - loss: 0.1329 - acc: 0.9481 - val_loss: 0.1839 - val_acc: 0.9350\n",
      "Epoch 18/60\n",
      "150/150 [==============================] - 75s 501ms/step - loss: 0.1408 - acc: 0.9469 - val_loss: 0.1632 - val_acc: 0.9502\n",
      "Epoch 19/60\n",
      "150/150 [==============================] - 75s 502ms/step - loss: 0.1388 - acc: 0.9492 - val_loss: 0.2432 - val_acc: 0.9362\n",
      "Epoch 20/60\n",
      "150/150 [==============================] - 75s 502ms/step - loss: 0.1271 - acc: 0.9524 - val_loss: 0.1634 - val_acc: 0.9538\n",
      "Epoch 21/60\n",
      "150/150 [==============================] - 75s 502ms/step - loss: 0.1218 - acc: 0.9485 - val_loss: 0.1796 - val_acc: 0.9492\n",
      "Epoch 22/60\n",
      "150/150 [==============================] - 75s 502ms/step - loss: 0.1155 - acc: 0.9554 - val_loss: 0.1625 - val_acc: 0.9544\n",
      "Epoch 23/60\n",
      "150/150 [==============================] - 75s 502ms/step - loss: 0.1135 - acc: 0.9580 - val_loss: 0.3093 - val_acc: 0.9228\n",
      "Epoch 24/60\n",
      "150/150 [==============================] - 75s 501ms/step - loss: 0.1228 - acc: 0.9517 - val_loss: 0.1641 - val_acc: 0.9518\n",
      "Epoch 25/60\n",
      "150/150 [==============================] - 75s 501ms/step - loss: 0.1221 - acc: 0.9515 - val_loss: 0.1660 - val_acc: 0.9492\n",
      "Epoch 26/60\n",
      "150/150 [==============================] - 75s 502ms/step - loss: 0.1123 - acc: 0.9556 - val_loss: 0.2045 - val_acc: 0.9502\n",
      "Epoch 27/60\n",
      "150/150 [==============================] - 75s 501ms/step - loss: 0.1085 - acc: 0.9580 - val_loss: 0.1747 - val_acc: 0.9548\n",
      "Epoch 28/60\n",
      "150/150 [==============================] - 75s 503ms/step - loss: 0.1161 - acc: 0.9586 - val_loss: 0.2231 - val_acc: 0.9454\n",
      "Epoch 29/60\n",
      "150/150 [==============================] - 75s 500ms/step - loss: 0.1109 - acc: 0.9572 - val_loss: 0.2687 - val_acc: 0.9304\n",
      "Epoch 30/60\n",
      "150/150 [==============================] - 75s 498ms/step - loss: 0.1050 - acc: 0.9606 - val_loss: 0.2226 - val_acc: 0.9542\n",
      "Epoch 31/60\n",
      "150/150 [==============================] - 75s 498ms/step - loss: 0.1050 - acc: 0.9593 - val_loss: 0.2084 - val_acc: 0.9522\n",
      "Epoch 32/60\n",
      "150/150 [==============================] - 75s 499ms/step - loss: 0.0985 - acc: 0.9648 - val_loss: 0.1898 - val_acc: 0.9520\n",
      "Epoch 33/60\n",
      "150/150 [==============================] - 75s 497ms/step - loss: 0.0872 - acc: 0.9662 - val_loss: 0.2135 - val_acc: 0.9538\n",
      "Epoch 34/60\n",
      "150/150 [==============================] - 75s 498ms/step - loss: 0.0904 - acc: 0.9654 - val_loss: 0.1801 - val_acc: 0.9514\n",
      "Epoch 35/60\n",
      "150/150 [==============================] - 75s 497ms/step - loss: 0.0952 - acc: 0.9635 - val_loss: 0.2452 - val_acc: 0.9526\n",
      "Epoch 36/60\n",
      "150/150 [==============================] - 75s 498ms/step - loss: 0.0878 - acc: 0.9665 - val_loss: 0.2615 - val_acc: 0.9512\n",
      "Epoch 37/60\n",
      "150/150 [==============================] - 75s 499ms/step - loss: 0.0831 - acc: 0.9705 - val_loss: 0.1995 - val_acc: 0.9508\n",
      "Epoch 38/60\n",
      "150/150 [==============================] - 75s 498ms/step - loss: 0.0900 - acc: 0.9680 - val_loss: 0.1758 - val_acc: 0.9556\n",
      "Epoch 39/60\n",
      "150/150 [==============================] - 75s 498ms/step - loss: 0.0817 - acc: 0.9698 - val_loss: 0.1900 - val_acc: 0.9540\n",
      "Epoch 40/60\n",
      "150/150 [==============================] - 75s 498ms/step - loss: 0.0851 - acc: 0.9665 - val_loss: 0.1949 - val_acc: 0.9530\n",
      "Epoch 41/60\n",
      "150/150 [==============================] - 75s 498ms/step - loss: 0.0785 - acc: 0.9712 - val_loss: 0.3652 - val_acc: 0.9460\n",
      "Epoch 42/60\n",
      "150/150 [==============================] - 75s 498ms/step - loss: 0.0846 - acc: 0.9701 - val_loss: 0.3015 - val_acc: 0.9434\n",
      "Epoch 43/60\n",
      "150/150 [==============================] - 75s 498ms/step - loss: 0.0754 - acc: 0.9707 - val_loss: 0.2054 - val_acc: 0.9536\n",
      "Epoch 44/60\n",
      "150/150 [==============================] - 75s 498ms/step - loss: 0.0907 - acc: 0.9714 - val_loss: 0.2176 - val_acc: 0.9520\n",
      "Epoch 45/60\n",
      "150/150 [==============================] - 75s 498ms/step - loss: 0.0800 - acc: 0.9687 - val_loss: 0.3485 - val_acc: 0.9234\n",
      "Epoch 46/60\n",
      "150/150 [==============================] - 75s 499ms/step - loss: 0.0785 - acc: 0.9727 - val_loss: 0.1798 - val_acc: 0.9482\n",
      "Epoch 47/60\n",
      "150/150 [==============================] - 75s 497ms/step - loss: 0.0907 - acc: 0.9725 - val_loss: 0.2195 - val_acc: 0.9570\n",
      "Epoch 48/60\n",
      "150/150 [==============================] - 75s 498ms/step - loss: 0.0683 - acc: 0.9740 - val_loss: 0.2702 - val_acc: 0.9500\n",
      "Epoch 49/60\n",
      "150/150 [==============================] - 75s 498ms/step - loss: 0.0771 - acc: 0.9764 - val_loss: 0.2989 - val_acc: 0.9424\n",
      "Epoch 50/60\n",
      "150/150 [==============================] - 75s 498ms/step - loss: 0.0713 - acc: 0.9735 - val_loss: 0.3252 - val_acc: 0.9230\n",
      "Epoch 51/60\n",
      "150/150 [==============================] - 75s 499ms/step - loss: 0.0743 - acc: 0.9741 - val_loss: 0.2632 - val_acc: 0.9524\n",
      "Epoch 52/60\n",
      "150/150 [==============================] - 75s 498ms/step - loss: 0.0695 - acc: 0.9743 - val_loss: 0.2728 - val_acc: 0.9532\n",
      "Epoch 53/60\n",
      "150/150 [==============================] - 75s 503ms/step - loss: 0.0672 - acc: 0.9777 - val_loss: 0.2709 - val_acc: 0.9550\n",
      "Epoch 54/60\n",
      "150/150 [==============================] - 75s 499ms/step - loss: 0.0701 - acc: 0.9753 - val_loss: 0.3340 - val_acc: 0.9494\n",
      "Epoch 55/60\n",
      "150/150 [==============================] - 75s 498ms/step - loss: 0.0607 - acc: 0.9780 - val_loss: 0.2174 - val_acc: 0.9538\n",
      "Epoch 56/60\n",
      "150/150 [==============================] - 75s 498ms/step - loss: 0.0633 - acc: 0.9791 - val_loss: 0.2273 - val_acc: 0.9496\n",
      "Epoch 57/60\n",
      "150/150 [==============================] - 75s 498ms/step - loss: 0.0664 - acc: 0.9773 - val_loss: 0.2763 - val_acc: 0.9470\n",
      "Epoch 58/60\n",
      "150/150 [==============================] - 75s 498ms/step - loss: 0.0632 - acc: 0.9765 - val_loss: 0.2753 - val_acc: 0.9346\n",
      "Epoch 59/60\n",
      "150/150 [==============================] - 75s 498ms/step - loss: 0.0623 - acc: 0.9790 - val_loss: 0.2640 - val_acc: 0.9502\n",
      "Epoch 60/60\n",
      "150/150 [==============================] - 75s 498ms/step - loss: 0.0634 - acc: 0.9778 - val_loss: 0.2572 - val_acc: 0.9532\n"
     ]
    }
   ],
   "source": [
    "model.compile(loss='binary_crossentropy', optimizer=optimizers.RMSprop(lr=1e-4), metrics=['acc'])\n",
    "\n",
    "history = model.fit_generator(train_generator, steps_per_epoch=150, epochs=60,\n",
    "                              validation_data=validation_generator, validation_steps=100)"
   ]
  },
  {
   "cell_type": "code",
   "execution_count": 15,
   "metadata": {},
   "outputs": [
    {
     "data": {
      "image/png": "[encoded data removed]",
      "text/plain": [
       "<Figure size 432x288 with 1 Axes>"
      ]
     },
     "metadata": {
      "needs_background": "light"
     },
     "output_type": "display_data"
    },
    {
     "data": {
      "image/png": "[encoded data removed]",
      "text/plain": [
       "<Figure size 432x288 with 1 Axes>"
      ]
     },
     "metadata": {
      "needs_background": "light"
     },
     "output_type": "display_data"
    }
   ],
   "source": [
    "acc = history.history['acc']\n",
    "val_acc = history.history['val_acc']\n",
    "loss = history.history['loss']\n",
    "val_loss = history.history['val_loss']\n",
    "epochs = range(1, len(acc) + 1)\n",
    "plt.plot(epochs, acc, 'bo', label='Training acc')\n",
    "plt.plot(epochs, val_acc, 'b', label='Validation acc')\n",
    "plt.title('Training and validation accuracy')\n",
    "plt.legend()\n",
    "plt.figure()\n",
    "plt.plot(epochs, loss, 'bo', label='Training loss')\n",
    "plt.plot(epochs, val_loss, 'b', label='Validation loss')\n",
    "plt.title('Training and validation loss')\n",
    "plt.legend()\n",
    "plt.show()"
   ]
  },
  {
   "cell_type": "code",
   "execution_count": null,
   "metadata": {},
   "outputs": [],
   "source": []
  }
 ],
 "metadata": {
  "kernelspec": {
   "display_name": "gpuwork",
   "language": "python",
   "name": "gpuwork"
  },
  "language_info": {
   "codemirror_mode": {
    "name": "ipython",
    "version": 3
   },
   "file_extension": ".py",
   "mimetype": "text/x-python",
   "name": "python",
   "nbconvert_exporter": "python",
   "pygments_lexer": "ipython3",
   "version": "3.8.8"
  }
 },
 "nbformat": 4,
 "nbformat_minor": 4
}
